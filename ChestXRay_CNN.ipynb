{
  "nbformat": 4,
  "nbformat_minor": 0,
  "metadata": {
    "colab": {
      "provenance": [],
      "gpuType": "T4"
    },
    "kernelspec": {
      "name": "python3",
      "display_name": "Python 3"
    },
    "language_info": {
      "name": "python"
    },
    "gpuClass": "standard"
  },
  "cells": [
    {
      "cell_type": "markdown",
      "source": [
        "# Step 1 : Init"
      ],
      "metadata": {
        "id": "gM2t-wRxXvWy"
      }
    },
    {
      "cell_type": "code",
      "source": [
        "import tensorflow as tf\n",
        "from tensorflow import keras\n",
        "\n",
        "import numpy as np\n",
        "import matplotlib.pyplot as plt"
      ],
      "metadata": {
        "id": "hNJNXSGMsDCU"
      },
      "execution_count": null,
      "outputs": []
    },
    {
      "cell_type": "markdown",
      "source": [
        "# Step 2 : Have a look"
      ],
      "metadata": {
        "id": "sc-zhEwWYAHz"
      }
    },
    {
      "cell_type": "code",
      "source": [
        "img_path = \"drive/MyDrive/Dataset/train/NORMAL/IM-0115-0001.jpeg\"\n",
        "img = keras.utils.load_img(img_path, target_size=(224,224))\n",
        "\n",
        "x = keras.utils.img_to_array(img)\n",
        "\n",
        "print(type(x))\n",
        "print(x.shape)\n",
        "plt.imshow(x/255)"
      ],
      "metadata": {
        "id": "VLCTPC5bsuPg"
      },
      "execution_count": null,
      "outputs": []
    },
    {
      "cell_type": "markdown",
      "source": [
        "# Step 3 : Retrieve data and prepare data"
      ],
      "metadata": {
        "id": "5XT5zwH_XzWa"
      }
    },
    {
      "cell_type": "code",
      "execution_count": null,
      "metadata": {
        "id": "xhoge275f9aJ"
      },
      "outputs": [],
      "source": [
        "train_dir = 'drive/MyDrive/Dataset/train'\n",
        "test_dir = 'drive/MyDrive/Dataset/test'\n",
        "\n",
        "batch_size = 256\n",
        "img_size = (224, 224)"
      ]
    },
    {
      "cell_type": "code",
      "source": [
        "train_dataset = keras.utils.image_dataset_from_directory(\n",
        "    train_dir,\n",
        "    labels='inferred',\n",
        "    label_mode='categorical',\n",
        "    batch_size=batch_size,\n",
        "    image_size=img_size,\n",
        "    shuffle=True,\n",
        "    seed=123\n",
        ")\n",
        "\n",
        "test_dataset = keras.utils.image_dataset_from_directory(\n",
        "    test_dir,\n",
        "    labels='inferred',\n",
        "    label_mode='categorical',\n",
        "    batch_size=batch_size,\n",
        "    image_size=img_size,\n",
        "    shuffle=True,\n",
        "    seed=123\n",
        ")"
      ],
      "metadata": {
        "colab": {
          "base_uri": "https://localhost:8080/"
        },
        "id": "lXSaHRKIsu8B",
        "outputId": "6f7ce462-248e-4e3e-99f6-5673e2bd769b"
      },
      "execution_count": null,
      "outputs": [
        {
          "output_type": "stream",
          "name": "stdout",
          "text": [
            "Found 5216 files belonging to 2 classes.\n",
            "Found 624 files belonging to 2 classes.\n"
          ]
        }
      ]
    },
    {
      "cell_type": "markdown",
      "source": [
        "# Step 4 : Create model"
      ],
      "metadata": {
        "id": "ga4B7pZRYDzB"
      }
    },
    {
      "cell_type": "code",
      "source": [
        "model = keras.Sequential()\n",
        "\n",
        "model.add(keras.layers.Input((224,224,3)))\n",
        "\n",
        "model.add(keras.layers.Rescaling(1./255))\n",
        "\n",
        "model.add(keras.layers.Conv2D(32, (3,3), activation='relu'))\n",
        "model.add(keras.layers.MaxPooling2D((2,2)))\n",
        "model.add(keras.layers.Dropout(0.2))\n",
        "\n",
        "model.add(keras.layers.Conv2D(32, (3,3), activation='relu'))\n",
        "model.add(keras.layers.MaxPooling2D((2,2)))\n",
        "model.add(keras.layers.Dropout(0.2))\n",
        "\n",
        "model.add(keras.layers.Conv2D(64, (3,3), activation='relu'))\n",
        "model.add(keras.layers.MaxPooling2D((2,2)))\n",
        "model.add(keras.layers.Dropout(0.2))\n",
        "\n",
        "model.add(keras.layers.Flatten())\n",
        "model.add(keras.layers.Dense(64, activation='relu'))\n",
        "model.add(keras.layers.Dropout(0.5))\n",
        "model.add(keras.layers.Dense(2, activation='softmax'))\n",
        "\n",
        "model.summary()\n",
        "\n",
        "model.compile(optimizer='rmsprop',\n",
        "              loss='categorical_crossentropy',\n",
        "              metrics=['accuracy'])"
      ],
      "metadata": {
        "colab": {
          "base_uri": "https://localhost:8080/"
        },
        "id": "VxpYaoq22XM7",
        "outputId": "7a170afb-7ef4-4410-ea4f-e5e0a08e324e"
      },
      "execution_count": null,
      "outputs": [
        {
          "output_type": "stream",
          "name": "stdout",
          "text": [
            "Model: \"sequential\"\n",
            "_________________________________________________________________\n",
            " Layer (type)                Output Shape              Param #   \n",
            "=================================================================\n",
            " rescaling (Rescaling)       (None, 224, 224, 3)       0         \n",
            "                                                                 \n",
            " conv2d (Conv2D)             (None, 222, 222, 32)      896       \n",
            "                                                                 \n",
            " max_pooling2d (MaxPooling2D  (None, 111, 111, 32)     0         \n",
            " )                                                               \n",
            "                                                                 \n",
            " dropout (Dropout)           (None, 111, 111, 32)      0         \n",
            "                                                                 \n",
            " conv2d_1 (Conv2D)           (None, 109, 109, 32)      9248      \n",
            "                                                                 \n",
            " max_pooling2d_1 (MaxPooling  (None, 54, 54, 32)       0         \n",
            " 2D)                                                             \n",
            "                                                                 \n",
            " dropout_1 (Dropout)         (None, 54, 54, 32)        0         \n",
            "                                                                 \n",
            " conv2d_2 (Conv2D)           (None, 52, 52, 64)        18496     \n",
            "                                                                 \n",
            " max_pooling2d_2 (MaxPooling  (None, 26, 26, 64)       0         \n",
            " 2D)                                                             \n",
            "                                                                 \n",
            " dropout_2 (Dropout)         (None, 26, 26, 64)        0         \n",
            "                                                                 \n",
            " flatten (Flatten)           (None, 43264)             0         \n",
            "                                                                 \n",
            " dense (Dense)               (None, 64)                2768960   \n",
            "                                                                 \n",
            " dropout_3 (Dropout)         (None, 64)                0         \n",
            "                                                                 \n",
            " dense_1 (Dense)             (None, 2)                 130       \n",
            "                                                                 \n",
            "=================================================================\n",
            "Total params: 2,797,730\n",
            "Trainable params: 2,797,730\n",
            "Non-trainable params: 0\n",
            "_________________________________________________________________\n"
          ]
        }
      ]
    },
    {
      "cell_type": "markdown",
      "source": [
        "# Step 5 : Train model"
      ],
      "metadata": {
        "id": "RTyiLwKdYIyg"
      }
    },
    {
      "cell_type": "code",
      "source": [
        "model.fit(\n",
        "    train_dataset,\n",
        "    validation_data=test_dataset,\n",
        "    epochs=30,\n",
        "    verbose=1\n",
        ")"
      ],
      "metadata": {
        "id": "2LRGOFyR5vHe"
      },
      "execution_count": null,
      "outputs": []
    },
    {
      "cell_type": "markdown",
      "source": [
        "# Step 6 : Evaluate model"
      ],
      "metadata": {
        "id": "QgxXMALJYL5Z"
      }
    },
    {
      "cell_type": "code",
      "source": [
        "score = model.evaluate(test_dataset, verbose=0)\n",
        "\n",
        "print('Test Loss : ', score[0])\n",
        "print('Test Accuracy : ', score[1])"
      ],
      "metadata": {
        "id": "SbilV-24AcrF"
      },
      "execution_count": null,
      "outputs": []
    },
    {
      "cell_type": "markdown",
      "source": [
        "# Step 7 : Create Chart"
      ],
      "metadata": {
        "id": "cZVdcr9vYMnk"
      }
    },
    {
      "cell_type": "code",
      "source": [
        "epochs = [10, 20, 30, 40]\n",
        "batch64Acc = [0.7628, 0.7660, 0.7339, 0.7067]\n",
        "batch128Acc = [0.7948, 0.7932, 0.8141, 0.7644]\n",
        "batch256Acc = [0.7772, 0.7804, 0.8413, 0.8190]\n",
        "batch512Acc = [0.7131, 0.8173, 0.7660, 0.7981]\n",
        "\n",
        "plt.figure(figsize=(16,10))\n",
        "plt.xlabel(\"Epochs\")\n",
        "plt.ylabel(\"Accuracy\")\n",
        "\n",
        "plt.xticks(epochs)\n",
        "# plt.yticks([0.5, 0.6, 0.7, 0.8, 0.9, 1])\n",
        "plt.ylim(0.5, 1)\n",
        "\n",
        "plt.plot(epochs, batch64Acc, color='red', label='batch_64')\n",
        "plt.plot(epochs, batch128Acc, color='blue', label='batch_128')\n",
        "plt.plot(epochs, batch256Acc, color='green', label='batch_256')\n",
        "plt.plot(epochs, batch512Acc, color='yellow', label='batch_512')\n",
        "\n",
        "plt.legend()"
      ],
      "metadata": {
        "colab": {
          "base_uri": "https://localhost:8080/",
          "height": 584
        },
        "id": "QC5rtzvPWmSZ",
        "outputId": "fcf01474-da9c-47d2-a559-76e2697b846d"
      },
      "execution_count": null,
      "outputs": [
        {
          "output_type": "execute_result",
          "data": {
            "text/plain": [
              "<matplotlib.legend.Legend at 0x7fbce2c0dfc0>"
            ]
          },
          "metadata": {},
          "execution_count": 12
        },
        {
          "output_type": "display_data",
          "data": {
            "text/plain": [
              "<Figure size 1600x1000 with 1 Axes>"
            ],
            "image/png": "[encoded data removed]"
          },
          "metadata": {}
        }
      ]
    },
    {
      "cell_type": "markdown",
      "source": [
        "# Step 8 : Predict"
      ],
      "metadata": {
        "id": "6aB77qXiaHrN"
      }
    },
    {
      "cell_type": "code",
      "source": [
        "img_path = \"drive/MyDrive/Dataset/val/NORMAL/IM-0115-0001.jpeg\"\n",
        "img = keras.utils.load_img(img_path, target_size=(224,224))\n",
        "\n",
        "img = img.reshape((1, 224, 224, 3))\n",
        "model.predict(img)"
      ],
      "metadata": {
        "id": "rt4-R_M7aPXX"
      },
      "execution_count": null,
      "outputs": []
    }
  ]
}