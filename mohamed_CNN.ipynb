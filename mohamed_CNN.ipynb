{
 "cells": [
  {
   "attachments": {},
   "cell_type": "markdown",
   "metadata": {},
   "source": [
    "Defining paths and labels"
   ]
  },
  {
   "cell_type": "code",
   "execution_count": null,
   "metadata": {},
   "outputs": [],
   "source": [
    "import os\n",
    "from PIL import Image\n",
    "import numpy as np\n",
    "\n",
    "train_path = './inputs/chest_Xray/train'\n",
    "val_path = './inputs/chest_Xray/val'\n",
    "test_path='./inputs/chest_Xray/test'\n",
    "types = ['NORMAL','PNEUMONIA']\n",
    "#`type_to_label` is a dictionary that maps each type of image (NORMAL or PNEUMONIA) to a numerical label (0 or 1). The line `type_to_label = {type: i for i, type in enumerate(types)}` uses a dictionary comprehension to create this mapping by iterating over the `types` list and assigning a numerical label to each type using the `enumerate` function.\n",
    "type_to_label = {type: i for i, type in enumerate(types)}\n",
    "\n",
    "print(types)"
   ]
  },
  {
   "attachments": {},
   "cell_type": "markdown",
   "metadata": {},
   "source": []
  },
  {
   "attachments": {},
   "cell_type": "markdown",
   "metadata": {},
   "source": [
    "Load and process image"
   ]
  },
  {
   "cell_type": "code",
   "execution_count": null,
   "metadata": {},
   "outputs": [],
   "source": [
    "def load_and_preprocess_image(imagePath,target_size=(224, 224)):\n",
    "    img = Image.open(imagePath).convert('RGB')\n",
    "    img_resized = img.resize(target_size)\n",
    "    img_array = np.array(img_resized)\n",
    "    img_normalized = img_array / 255.0  # Normalize pixel values between 0 and 1\n",
    "    return img_normalized"
   ]
  },
  {
   "attachments": {},
   "cell_type": "markdown",
   "metadata": {},
   "source": [
    "Load the training images and labels"
   ]
  },
  {
   "cell_type": "code",
   "execution_count": null,
   "metadata": {},
   "outputs": [],
   "source": [
    "train_images = []\n",
    "train_labels = []\n",
    "for type in types:\n",
    "    type_path = os.path.join(train_path, type)\n",
    "    for image_name in os.listdir(type_path):\n",
    "        if image_name.endswith('.jpeg'):\n",
    "            image_path = os.path.join(type_path, image_name)\n",
    "            train_images.append(load_and_preprocess_image(image_path))\n",
    "            train_labels.append(type_to_label[type])\n",
    "train_images = np.array(train_images)\n",
    "# train_images = train_images.astype(np.float32)  # Convert the data type to float32\n",
    "train_images = np.expand_dims(train_images, axis=-1)\n",
    "train_labels = np.array(train_labels)"
   ]
  },
  {
   "attachments": {},
   "cell_type": "markdown",
   "metadata": {},
   "source": [
    "Load the validation images and labels"
   ]
  },
  {
   "cell_type": "code",
   "execution_count": null,
   "metadata": {},
   "outputs": [],
   "source": [
    "\n",
    "val_images = []\n",
    "val_labels = []\n",
    "for type in types:\n",
    "    type_path = os.path.join(val_path, type)\n",
    "    for image_name in os.listdir(type_path):\n",
    "        if image_name.endswith('.jpeg'):\n",
    "            image_path = os.path.join(type_path, image_name)\n",
    "            val_images.append(load_and_preprocess_image(image_path))\n",
    "            val_labels.append(type_to_label[type])\n",
    "        \n",
    "val_images = np.array(val_images)\n",
    "val_images = np.expand_dims(val_images, axis=-1)\n",
    "val_labels = np.array(val_labels)\n"
   ]
  },
  {
   "attachments": {},
   "cell_type": "markdown",
   "metadata": {},
   "source": [
    "Load the evaluation images and labels"
   ]
  },
  {
   "cell_type": "code",
   "execution_count": null,
   "metadata": {},
   "outputs": [],
   "source": [
    "test_images = []\n",
    "test_labels = []\n",
    "for type in types:\n",
    "    type_path = os.path.join(test_path, type)\n",
    "    for image_name in os.listdir(type_path):\n",
    "        if image_name.endswith('.jpeg'):\n",
    "            image_path = os.path.join(type_path, image_name)\n",
    "            test_images.append(load_and_preprocess_image(image_path))\n",
    "            test_labels.append(type_to_label[type])\n",
    "                      \n",
    "test_images = np.array(test_images)\n",
    "test_images = np.expand_dims(test_images, axis=-1)\n",
    "test_labels = np.array(test_labels)"
   ]
  },
  {
   "attachments": {},
   "cell_type": "markdown",
   "metadata": {},
   "source": [
    "Define the CNN model"
   ]
  },
  {
   "cell_type": "code",
   "execution_count": null,
   "metadata": {},
   "outputs": [],
   "source": [
    "import tensorflow as tf\n",
    "from tensorflow import keras\n",
    "# Define the CNN model\n",
    "model = keras.Sequential([\n",
    "    keras.layers.Conv2D(32, (3, 3), activation='relu', input_shape=(224, 224, 3)),\n",
    "    keras.layers.MaxPooling2D((2, 2)),\n",
    "    keras.layers.Dropout(0.25),\n",
    "    keras.layers.Conv2D(64, (3, 3), activation='relu'),\n",
    "    keras.layers.AveragePooling2D((2, 2)),\n",
    "    keras.layers.Dropout(0.25),\n",
    "    keras.layers.Conv2D(128, (3, 3), activation='relu'),\n",
    "    keras.layers.MaxPooling2D((2, 2)),\n",
    "    keras.layers.Flatten(),\n",
    "    keras.layers.Dense(128, activation='relu'),\n",
    "    keras.layers.Dropout(0.5),\n",
    "    keras.layers.Dense(1, activation='softmax')  # Change the number of units and activation function\n",
    "])\n",
    "\n",
    "# Compile the model with categorical cross-entropy loss and Adam optimizer\n",
    "model.compile(optimizer='adam',\n",
    "              loss='binary_crossentropy',\n",
    "              metrics=['accuracy'])\n",
    "\n",
    "\n",
    "# Train the model on the training data with early stopping and model checkpointing\n",
    "callbacks = [keras.callbacks.EarlyStopping(patience=3),\n",
    "             keras.callbacks.ModelCheckpoint('pneumonia.h5', save_best_only=True)]\n",
    "model.fit(train_images, train_labels, epochs=20,batch_size=32 ,validation_data=(val_images, val_labels), callbacks=callbacks)\n"
   ]
  },
  {
   "attachments": {},
   "cell_type": "markdown",
   "metadata": {},
   "source": [
    "Evalute the model with evaluation data"
   ]
  },
  {
   "cell_type": "code",
   "execution_count": null,
   "metadata": {},
   "outputs": [],
   "source": [
    "model.load_weights('pneumonia.h5')\n",
    "test_loss, test_acc = model.evaluate(test_images, test_labels)\n",
    "print('Test accuracy:', test_acc)"
   ]
  },
  {
   "attachments": {},
   "cell_type": "markdown",
   "metadata": {},
   "source": [
    "Predict disease"
   ]
  },
  {
   "cell_type": "code",
   "execution_count": null,
   "metadata": {},
   "outputs": [],
   "source": [
    "import numpy as np\n",
    "from tensorflow import keras\n",
    "\n",
    "# Load the trained model\n",
    "model = keras.models.load_model('pneumonia.h5')\n",
    "\n",
    "img = load_and_preprocess_image('./inputs/chest_Xray/val/PNEUMONIA/person1954_bacteria_4886.jpeg')\n",
    "img = np.expand_dims(img, axis=0)\n",
    "# Perform the prediction\n",
    "pred = model.predict(img)\n",
    "print(pred)\n",
    "pred_type = \"NORMAL\" if pred > 0 else \"PNEUMONIA\"\n",
    "\n",
    "# print('The predicted type is: ' + pred_type)"
   ]
  }
 ],
 "metadata": {
  "kernelspec": {
   "display_name": "base",
   "language": "python",
   "name": "python3"
  },
  "language_info": {
   "codemirror_mode": {
    "name": "ipython",
    "version": 3
   },
   "file_extension": ".py",
   "mimetype": "text/x-python",
   "name": "python",
   "nbconvert_exporter": "python",
   "pygments_lexer": "ipython3",
   "version": "3.9.16"
  },
  "orig_nbformat": 4
 },
 "nbformat": 4,
 "nbformat_minor": 2
}
